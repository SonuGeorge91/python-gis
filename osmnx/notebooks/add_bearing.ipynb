{
 "cells": [
  {
   "cell_type": "code",
   "execution_count": 3,
   "id": "faf05a67-6af8-4c89-acd8-33bbf8bc21f5",
   "metadata": {},
   "outputs": [],
   "source": [
    "from geopy.geocoders import Nominatim"
   ]
  },
  {
   "cell_type": "code",
   "execution_count": null,
   "id": "6ea8f966-f37a-49a9-900a-6749ac156098",
   "metadata": {},
   "outputs": [],
   "source": [
    "geolocator = Nominatim(user_agent=\"osmnx_app\")"
   ]
  },
  {
   "cell_type": "code",
   "execution_count": 4,
   "id": "00710f05-1a9a-4ab8-b384-2ed14edd76e1",
   "metadata": {},
   "outputs": [
    {
     "data": {
      "text/plain": [
       "955820326"
      ]
     },
     "execution_count": 4,
     "metadata": {},
     "output_type": "execute_result"
    }
   ],
   "source": [
    "# Thiruvananthapuram Coordinates\n",
    "tvm_lat, tvm_lon = 8.50606, 76.96153\n",
    "# Nominatim for reverse geolocator\n",
    "tvm_osmid = \"{lat}, {lon}\".format(lat=tvm_lat, lon=tvm_lon)\n",
    "location = geolocator.reverse(tvm_osmid)\n",
    "# fetch osm id\n",
    "location.raw.get('osm_id')"
   ]
  },
  {
   "cell_type": "code",
   "execution_count": 5,
   "id": "7538d028-8d1b-41ab-9c16-417956c899eb",
   "metadata": {},
   "outputs": [],
   "source": [
    "import osmnx as ox"
   ]
  },
  {
   "cell_type": "code",
   "execution_count": 6,
   "id": "a29fd3f4-4bd6-4fdd-a189-a4377d24d0ee",
   "metadata": {},
   "outputs": [],
   "source": [
    "import networkx as nx"
   ]
  },
  {
   "cell_type": "code",
   "execution_count": 7,
   "id": "a79a8181-accf-45fb-84a0-5a0bc568df59",
   "metadata": {},
   "outputs": [
    {
     "data": {
      "text/plain": [
       "OutMultiEdgeDataView([(955820326, 281828280, 316.6), (281828280, 7351760776, 26.6)])"
      ]
     },
     "execution_count": 7,
     "metadata": {},
     "output_type": "execute_result"
    }
   ],
   "source": [
    "# set multidigraph\n",
    "G = nx.MultiDiGraph(crs=\"EPSG:4326\")\n",
    "\n",
    "# add each node based on osmid \n",
    "tvm_osmid, kol_osmid, pat_osmid = 955820326,281828280,7351760776\n",
    "G.add_nodes_from([tvm_osmid, kol_osmid, pat_osmid])\n",
    "\n",
    "# add coordinates for each node\n",
    "tvm_lat, tvm_lon = 8.50606, 76.96153\n",
    "kol_lat, kol_lon = 8.88795, 76.59550\n",
    "pat_lat, pat_lon = 9.2648, 76.7870\n",
    "G.nodes[tvm_osmid].update({'osmid': tvm_osmid, 'x': tvm_lon, 'y': tvm_lat})\n",
    "G.nodes[kol_osmid].update({'osmid': kol_osmid, 'x': kol_lon, 'y': kol_lat})\n",
    "G.nodes[pat_osmid].update({'osmid': pat_osmid, 'x': pat_lon, 'y': pat_lat})\n",
    "\n",
    "# add edges \n",
    "G.add_edges_from([(tvm_osmid, kol_osmid), (kol_osmid, pat_osmid)])\n",
    "\n",
    "# add edge bearing\n",
    "mdigr_bearing = ox.bearing.add_edge_bearings(G, precision=None)\n",
    "# get added bearing for edges\n",
    "mdigr_bearing.edges(data=\"bearing\")"
   ]
  },
  {
   "cell_type": "code",
   "execution_count": 9,
   "id": "a5b2711b-c1bd-4781-b6a1-988dba7c5b12",
   "metadata": {},
   "outputs": [
    {
     "data": {
      "image/png": "[encoded data removed]",
      "text/plain": [
       "<Figure size 800x800 with 1 Axes>"
      ]
     },
     "metadata": {},
     "output_type": "display_data"
    },
    {
     "data": {
      "text/plain": [
       "(<Figure size 800x800 with 1 Axes>, <Axes: >)"
      ]
     },
     "execution_count": 9,
     "metadata": {},
     "output_type": "execute_result"
    }
   ],
   "source": [
    "# plot bearing\n",
    "ox.plot_graph(mdigr_bearing)"
   ]
  },
  {
   "cell_type": "code",
   "execution_count": 10,
   "id": "2fdae958-c158-45df-bdb0-88f84bd9e719",
   "metadata": {},
   "outputs": [],
   "source": [
    "# convert to geodataframe to plot in map\n",
    "geodf_edge = ox.utils_graph.graph_to_gdfs(mdigr_bearing, nodes=False, edges=True, node_geometry=False, fill_edge_geometry=True)"
   ]
  },
  {
   "cell_type": "code",
   "execution_count": 11,
   "id": "9fa92aa3-1ed3-436b-a1c9-3a1412d3def9",
   "metadata": {},
   "outputs": [
    {
     "data": {
      "text/html": [
       "<div style=\"width:100%;\"><div style=\"position:relative;width:100%;height:0;padding-bottom:60%;\"><span style=\"color:#565656\">Make this Notebook Trusted to load map: File -> Trust Notebook</span><iframe srcdoc=\"&lt;!DOCTYPE html&gt;\n",
       "&lt;html&gt;\n",
       "&lt;head&gt;\n",
       "    \n",
       "    &lt;meta http-equiv=&quot;content-type&quot; content=&quot;text/html; charset=UTF-8&quot; /&gt;\n",
       "    \n",
       "        &lt;script&gt;\n",
       "            L_NO_TOUCH = false;\n",
       "            L_DISABLE_3D = false;\n",
       "        &lt;/script&gt;\n",
       "    \n",
       "    &lt;style&gt;html, body {width: 100%;height: 100%;margin: 0;padding: 0;}&lt;/style&gt;\n",
       "    &lt;style&gt;#map {position:absolute;top:0;bottom:0;right:0;left:0;}&lt;/style&gt;\n",
       "    &lt;script src=&quot;https://cdn.jsdelivr.net/npm/leaflet@1.9.3/dist/leaflet.js&quot;&gt;&lt;/script&gt;\n",
       "    &lt;script src=&quot;https://code.jquery.com/jquery-3.7.1.min.js&quot;&gt;&lt;/script&gt;\n",
       "    &lt;script src=&quot;https://cdn.jsdelivr.net/npm/bootstrap@5.2.2/dist/js/bootstrap.bundle.min.js&quot;&gt;&lt;/script&gt;\n",
       "    &lt;script src=&quot;https://cdnjs.cloudflare.com/ajax/libs/Leaflet.awesome-markers/2.0.2/leaflet.awesome-markers.js&quot;&gt;&lt;/script&gt;\n",
       "    &lt;link rel=&quot;stylesheet&quot; href=&quot;https://cdn.jsdelivr.net/npm/leaflet@1.9.3/dist/leaflet.css&quot;/&gt;\n",
       "    &lt;link rel=&quot;stylesheet&quot; href=&quot;https://cdn.jsdelivr.net/npm/bootstrap@5.2.2/dist/css/bootstrap.min.css&quot;/&gt;\n",
       "    &lt;link rel=&quot;stylesheet&quot; href=&quot;https://netdna.bootstrapcdn.com/bootstrap/3.0.0/css/bootstrap.min.css&quot;/&gt;\n",
       "    &lt;link rel=&quot;stylesheet&quot; href=&quot;https://cdn.jsdelivr.net/npm/@fortawesome/fontawesome-free@6.2.0/css/all.min.css&quot;/&gt;\n",
       "    &lt;link rel=&quot;stylesheet&quot; href=&quot;https://cdnjs.cloudflare.com/ajax/libs/Leaflet.awesome-markers/2.0.2/leaflet.awesome-markers.css&quot;/&gt;\n",
       "    &lt;link rel=&quot;stylesheet&quot; href=&quot;https://cdn.jsdelivr.net/gh/python-visualization/folium/folium/templates/leaflet.awesome.rotate.min.css&quot;/&gt;\n",
       "    \n",
       "            &lt;meta name=&quot;viewport&quot; content=&quot;width=device-width,\n",
       "                initial-scale=1.0, maximum-scale=1.0, user-scalable=no&quot; /&gt;\n",
       "            &lt;style&gt;\n",
       "                #map_da7d964a2362a6f00116ea2ae0ca2b05 {\n",
       "                    position: relative;\n",
       "                    width: 100.0%;\n",
       "                    height: 100.0%;\n",
       "                    left: 0.0%;\n",
       "                    top: 0.0%;\n",
       "                }\n",
       "                .leaflet-container { font-size: 1rem; }\n",
       "            &lt;/style&gt;\n",
       "        \n",
       "    \n",
       "                    &lt;style&gt;\n",
       "                        .foliumtooltip {\n",
       "                            \n",
       "                        }\n",
       "                       .foliumtooltip table{\n",
       "                            margin: auto;\n",
       "                        }\n",
       "                        .foliumtooltip tr{\n",
       "                            text-align: left;\n",
       "                        }\n",
       "                        .foliumtooltip th{\n",
       "                            padding: 2px; padding-right: 8px;\n",
       "                        }\n",
       "                    &lt;/style&gt;\n",
       "            \n",
       "&lt;/head&gt;\n",
       "&lt;body&gt;\n",
       "    \n",
       "    \n",
       "            &lt;div class=&quot;folium-map&quot; id=&quot;map_da7d964a2362a6f00116ea2ae0ca2b05&quot; &gt;&lt;/div&gt;\n",
       "        \n",
       "&lt;/body&gt;\n",
       "&lt;script&gt;\n",
       "    \n",
       "    \n",
       "            var map_da7d964a2362a6f00116ea2ae0ca2b05 = L.map(\n",
       "                &quot;map_da7d964a2362a6f00116ea2ae0ca2b05&quot;,\n",
       "                {\n",
       "                    center: [8.88543, 76.778515],\n",
       "                    crs: L.CRS.EPSG3857,\n",
       "                    zoom: 10,\n",
       "                    zoomControl: true,\n",
       "                    preferCanvas: false,\n",
       "                }\n",
       "            );\n",
       "            L.control.scale().addTo(map_da7d964a2362a6f00116ea2ae0ca2b05);\n",
       "\n",
       "            \n",
       "\n",
       "        \n",
       "    \n",
       "            var tile_layer_b3a0b9b129635a34d52935def82fa8f4 = L.tileLayer(\n",
       "                &quot;https://tile.openstreetmap.org/{z}/{x}/{y}.png&quot;,\n",
       "                {&quot;attribution&quot;: &quot;\\u0026copy; \\u003ca href=\\&quot;https://www.openstreetmap.org/copyright\\&quot;\\u003eOpenStreetMap\\u003c/a\\u003e contributors&quot;, &quot;detectRetina&quot;: false, &quot;maxNativeZoom&quot;: 19, &quot;maxZoom&quot;: 19, &quot;minZoom&quot;: 0, &quot;noWrap&quot;: false, &quot;opacity&quot;: 1, &quot;subdomains&quot;: &quot;abc&quot;, &quot;tms&quot;: false}\n",
       "            );\n",
       "        \n",
       "    \n",
       "            tile_layer_b3a0b9b129635a34d52935def82fa8f4.addTo(map_da7d964a2362a6f00116ea2ae0ca2b05);\n",
       "        \n",
       "    \n",
       "            map_da7d964a2362a6f00116ea2ae0ca2b05.fitBounds(\n",
       "                [[8.50606, 76.5955], [9.2648, 76.96153]],\n",
       "                {}\n",
       "            );\n",
       "        \n",
       "    \n",
       "        function geo_json_84b86271807a1a0568a7ce4384b3da50_styler(feature) {\n",
       "            switch(feature.id) {\n",
       "                default:\n",
       "                    return {&quot;fillOpacity&quot;: 0.5, &quot;weight&quot;: 2};\n",
       "            }\n",
       "        }\n",
       "        function geo_json_84b86271807a1a0568a7ce4384b3da50_highlighter(feature) {\n",
       "            switch(feature.id) {\n",
       "                default:\n",
       "                    return {&quot;fillOpacity&quot;: 0.75};\n",
       "            }\n",
       "        }\n",
       "        function geo_json_84b86271807a1a0568a7ce4384b3da50_pointToLayer(feature, latlng) {\n",
       "            var opts = {&quot;bubblingMouseEvents&quot;: true, &quot;color&quot;: &quot;#3388ff&quot;, &quot;dashArray&quot;: null, &quot;dashOffset&quot;: null, &quot;fill&quot;: true, &quot;fillColor&quot;: &quot;#3388ff&quot;, &quot;fillOpacity&quot;: 0.2, &quot;fillRule&quot;: &quot;evenodd&quot;, &quot;lineCap&quot;: &quot;round&quot;, &quot;lineJoin&quot;: &quot;round&quot;, &quot;opacity&quot;: 1.0, &quot;radius&quot;: 2, &quot;stroke&quot;: true, &quot;weight&quot;: 3};\n",
       "            \n",
       "            let style = geo_json_84b86271807a1a0568a7ce4384b3da50_styler(feature)\n",
       "            Object.assign(opts, style)\n",
       "            \n",
       "            return new L.CircleMarker(latlng, opts)\n",
       "        }\n",
       "\n",
       "        function geo_json_84b86271807a1a0568a7ce4384b3da50_onEachFeature(feature, layer) {\n",
       "            layer.on({\n",
       "                mouseout: function(e) {\n",
       "                    if(typeof e.target.setStyle === &quot;function&quot;){\n",
       "                        geo_json_84b86271807a1a0568a7ce4384b3da50.resetStyle(e.target);\n",
       "                    }\n",
       "                },\n",
       "                mouseover: function(e) {\n",
       "                    if(typeof e.target.setStyle === &quot;function&quot;){\n",
       "                        const highlightStyle = geo_json_84b86271807a1a0568a7ce4384b3da50_highlighter(e.target.feature)\n",
       "                        e.target.setStyle(highlightStyle);\n",
       "                    }\n",
       "                },\n",
       "            });\n",
       "        };\n",
       "        var geo_json_84b86271807a1a0568a7ce4384b3da50 = L.geoJson(null, {\n",
       "                onEachFeature: geo_json_84b86271807a1a0568a7ce4384b3da50_onEachFeature,\n",
       "            \n",
       "                style: geo_json_84b86271807a1a0568a7ce4384b3da50_styler,\n",
       "                pointToLayer: geo_json_84b86271807a1a0568a7ce4384b3da50_pointToLayer,\n",
       "        });\n",
       "\n",
       "        function geo_json_84b86271807a1a0568a7ce4384b3da50_add (data) {\n",
       "            geo_json_84b86271807a1a0568a7ce4384b3da50\n",
       "                .addData(data);\n",
       "        }\n",
       "            geo_json_84b86271807a1a0568a7ce4384b3da50_add({&quot;bbox&quot;: [76.5955, 8.50606, 76.96153, 9.2648], &quot;features&quot;: [{&quot;bbox&quot;: [76.5955, 8.50606, 76.96153, 8.88795], &quot;geometry&quot;: {&quot;coordinates&quot;: [[76.96153, 8.50606], [76.5955, 8.88795]], &quot;type&quot;: &quot;LineString&quot;}, &quot;id&quot;: &quot;(955820326, 281828280, 0)&quot;, &quot;properties&quot;: {&quot;bearing&quot;: 316.6}, &quot;type&quot;: &quot;Feature&quot;}, {&quot;bbox&quot;: [76.5955, 8.88795, 76.787, 9.2648], &quot;geometry&quot;: {&quot;coordinates&quot;: [[76.5955, 8.88795], [76.787, 9.2648]], &quot;type&quot;: &quot;LineString&quot;}, &quot;id&quot;: &quot;(281828280, 7351760776, 0)&quot;, &quot;properties&quot;: {&quot;bearing&quot;: 26.6}, &quot;type&quot;: &quot;Feature&quot;}], &quot;type&quot;: &quot;FeatureCollection&quot;});\n",
       "\n",
       "        \n",
       "    \n",
       "    geo_json_84b86271807a1a0568a7ce4384b3da50.bindTooltip(\n",
       "    function(layer){\n",
       "    let div = L.DomUtil.create(&#x27;div&#x27;);\n",
       "    \n",
       "    let handleObject = feature=&gt;typeof(feature)==&#x27;object&#x27; ? JSON.stringify(feature) : feature;\n",
       "    let fields = [&quot;bearing&quot;];\n",
       "    let aliases = [&quot;bearing&quot;];\n",
       "    let table = &#x27;&lt;table&gt;&#x27; +\n",
       "        String(\n",
       "        fields.map(\n",
       "        (v,i)=&gt;\n",
       "        `&lt;tr&gt;\n",
       "            &lt;th&gt;${aliases[i]}&lt;/th&gt;\n",
       "            \n",
       "            &lt;td&gt;${handleObject(layer.feature.properties[v])}&lt;/td&gt;\n",
       "        &lt;/tr&gt;`).join(&#x27;&#x27;))\n",
       "    +&#x27;&lt;/table&gt;&#x27;;\n",
       "    div.innerHTML=table;\n",
       "    \n",
       "    return div\n",
       "    }\n",
       "    ,{&quot;className&quot;: &quot;foliumtooltip&quot;, &quot;sticky&quot;: true});\n",
       "                     \n",
       "    \n",
       "            geo_json_84b86271807a1a0568a7ce4384b3da50.addTo(map_da7d964a2362a6f00116ea2ae0ca2b05);\n",
       "        \n",
       "&lt;/script&gt;\n",
       "&lt;/html&gt;\" style=\"position:absolute;width:100%;height:100%;left:0;top:0;border:none !important;\" allowfullscreen webkitallowfullscreen mozallowfullscreen></iframe></div></div>"
      ],
      "text/plain": [
       "<folium.folium.Map at 0x13bd2a4e500>"
      ]
     },
     "execution_count": 11,
     "metadata": {},
     "output_type": "execute_result"
    }
   ],
   "source": [
    "# plot in map\n",
    "geodf_edge.explore()"
   ]
  },
  {
   "cell_type": "code",
   "execution_count": null,
   "id": "09555950-80e5-4e76-91e1-930fd7951956",
   "metadata": {},
   "outputs": [],
   "source": []
  }
 ],
 "metadata": {
  "kernelspec": {
   "display_name": "Python 3 (ipykernel)",
   "language": "python",
   "name": "python3"
  },
  "language_info": {
   "codemirror_mode": {
    "name": "ipython",
    "version": 3
   },
   "file_extension": ".py",
   "mimetype": "text/x-python",
   "name": "python",
   "nbconvert_exporter": "python",
   "pygments_lexer": "ipython3",
   "version": "3.10.0"
  }
 },
 "nbformat": 4,
 "nbformat_minor": 5
}
