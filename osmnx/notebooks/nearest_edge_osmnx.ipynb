{
 "cells": [
  {
   "cell_type": "code",
   "execution_count": 1,
   "id": "ff22d344-67ca-4fd3-9465-bc516f2b8515",
   "metadata": {},
   "outputs": [],
   "source": [
    "# Palakad coordinates\n",
    "pal_lat, pal_lon = 10.7867, 76.6548\n",
    "\n",
    "# Bangalore coordinates\n",
    "blr_lat, blr_lon = 12.9716, 77.5946\n",
    "\n",
    "# Thiruvananthapuram coordinates\n",
    "tvm_lat, tvm_lon = 8.50606, 76.96153\n",
    "\n",
    "# Kollam coordinates\n",
    "kol_lat, kol_lon = 8.88795, 76.59550\n",
    "\n",
    "# Kochi coordinates\n",
    "cok_lat, cok_lon = 9.9312, 76.2673"
   ]
  },
  {
   "cell_type": "code",
   "execution_count": 2,
   "id": "65b7d5ef-81da-4636-94e6-0d2c6f76f1fc",
   "metadata": {},
   "outputs": [],
   "source": [
    "from geopy.geocoders import Nominatim"
   ]
  },
  {
   "cell_type": "code",
   "execution_count": 3,
   "id": "c4ee5469-317a-4400-a1b9-25877ccaee76",
   "metadata": {},
   "outputs": [
    {
     "data": {
      "text/plain": [
       "38773287"
      ]
     },
     "execution_count": 3,
     "metadata": {},
     "output_type": "execute_result"
    }
   ],
   "source": [
    "# fetch osm id\n",
    "geolocator = Nominatim(user_agent=\"sample_app\")\n",
    "loc_osmid = \"{lat}, {lon}\".format(lat=blr_lat, lon=blr_lon)\n",
    "location = geolocator.reverse(loc_osmid)\n",
    "location.raw.get('osm_id')"
   ]
  },
  {
   "cell_type": "code",
   "execution_count": 4,
   "id": "37f5554e-cd2d-4375-b2e6-4cdb32161a3a",
   "metadata": {},
   "outputs": [],
   "source": [
    "# osmid for each coordinates \n",
    "tvm_osmid, kol_osmid = 955820326,281828280\n",
    "blr_osmid, pal_osmid = 38773287, 464139803"
   ]
  },
  {
   "cell_type": "code",
   "execution_count": 5,
   "id": "45e73cc1-9bc3-460b-9c0d-3a258e76b890",
   "metadata": {},
   "outputs": [],
   "source": [
    "import networkx as nx"
   ]
  },
  {
   "cell_type": "code",
   "execution_count": 6,
   "id": "3d81e83e-8915-46ae-bd38-89a9b06c7b17",
   "metadata": {},
   "outputs": [
    {
     "data": {
      "text/plain": [
       "[0, 0]"
      ]
     },
     "execution_count": 6,
     "metadata": {},
     "output_type": "execute_result"
    }
   ],
   "source": [
    "# initialize multidigraph\n",
    "G = nx.MultiDiGraph(crs=\"EPSG:4326\")\n",
    "\n",
    "# add nodes\n",
    "G.add_nodes_from([tvm_osmid, blr_osmid, pal_osmid, kol_osmid])\n",
    "# set x and y coordinates \n",
    "G.nodes[tvm_osmid].update({'x': tvm_lon, 'y': tvm_lat})\n",
    "G.nodes[kol_osmid].update({'x': kol_lon, 'y': kol_lat})\n",
    "G.nodes[pal_osmid].update({'x': pal_lon, 'y': pal_lat})\n",
    "G.nodes[blr_osmid].update({'x': blr_lon, 'y': blr_lat})\n",
    "\n",
    "# add edges \n",
    "G.add_edges_from([(tvm_osmid, blr_osmid), (kol_osmid, pal_osmid)])"
   ]
  },
  {
   "cell_type": "code",
   "execution_count": 7,
   "id": "71efcc69-102c-4f96-a94e-aa384012b290",
   "metadata": {},
   "outputs": [],
   "source": [
    "import osmnx as ox"
   ]
  },
  {
   "cell_type": "code",
   "execution_count": 8,
   "id": "fc12ce88-fd10-4104-9ef7-986bf7e54b78",
   "metadata": {},
   "outputs": [],
   "source": [
    "# convert multidigraph nodes to geodataframe\n",
    "gdf_nodes = ox.utils_graph.graph_to_gdfs(\n",
    "  G, nodes=True, edges=False, \n",
    "  node_geometry=True, fill_edge_geometry=False)\n",
    "\n",
    "# convert multidigraph edges to geodataframe\n",
    "gdf_edges = ox.utils_graph.graph_to_gdfs(\n",
    "  G, nodes=False, edges=True, \n",
    "  node_geometry=False, fill_edge_geometry=True)\n",
    "\n",
    "# apply projection\n",
    "gdf_nodes['geometry'] = gdf_nodes.geometry.to_crs(\"EPSG:7781\")\n",
    "# update x and y coordinates with projected coordinates\n",
    "gdf_nodes['x'] = gdf_nodes['geometry'].x \n",
    "gdf_nodes['y'] = gdf_nodes['geometry'].y\n",
    "\n",
    "# convert edges to projected coordinates\n",
    "gdf_edges['geometry'] = gdf_edges.geometry.to_crs(\"EPSG:7781\")\n"
   ]
  },
  {
   "cell_type": "code",
   "execution_count": 9,
   "id": "4c195fac-0844-47f8-a2dc-904770f65478",
   "metadata": {},
   "outputs": [
    {
     "data": {
      "text/html": [
       "<div>\n",
       "<style scoped>\n",
       "    .dataframe tbody tr th:only-of-type {\n",
       "        vertical-align: middle;\n",
       "    }\n",
       "\n",
       "    .dataframe tbody tr th {\n",
       "        vertical-align: top;\n",
       "    }\n",
       "\n",
       "    .dataframe thead th {\n",
       "        text-align: right;\n",
       "    }\n",
       "</style>\n",
       "<table border=\"1\" class=\"dataframe\">\n",
       "  <thead>\n",
       "    <tr style=\"text-align: right;\">\n",
       "      <th></th>\n",
       "      <th>x</th>\n",
       "      <th>y</th>\n",
       "      <th>geometry</th>\n",
       "    </tr>\n",
       "    <tr>\n",
       "      <th>osmid</th>\n",
       "      <th></th>\n",
       "      <th></th>\n",
       "      <th></th>\n",
       "    </tr>\n",
       "  </thead>\n",
       "  <tbody>\n",
       "    <tr>\n",
       "      <th>955820326</th>\n",
       "      <td>1.105863e+06</td>\n",
       "      <td>7.796105e+05</td>\n",
       "      <td>POINT (1105863.471 779610.506)</td>\n",
       "    </tr>\n",
       "    <tr>\n",
       "      <th>38773287</th>\n",
       "      <td>1.173015e+06</td>\n",
       "      <td>1.273927e+06</td>\n",
       "      <td>POINT (1173015.423 1273927.376)</td>\n",
       "    </tr>\n",
       "    <tr>\n",
       "      <th>464139803</th>\n",
       "      <td>1.071608e+06</td>\n",
       "      <td>1.031786e+06</td>\n",
       "      <td>POINT (1071608.015 1031786.480)</td>\n",
       "    </tr>\n",
       "    <tr>\n",
       "      <th>281828280</th>\n",
       "      <td>1.065496e+06</td>\n",
       "      <td>8.217651e+05</td>\n",
       "      <td>POINT (1065495.736 821765.127)</td>\n",
       "    </tr>\n",
       "  </tbody>\n",
       "</table>\n",
       "</div>"
      ],
      "text/plain": [
       "                      x             y                         geometry\n",
       "osmid                                                                 \n",
       "955820326  1.105863e+06  7.796105e+05   POINT (1105863.471 779610.506)\n",
       "38773287   1.173015e+06  1.273927e+06  POINT (1173015.423 1273927.376)\n",
       "464139803  1.071608e+06  1.031786e+06  POINT (1071608.015 1031786.480)\n",
       "281828280  1.065496e+06  8.217651e+05   POINT (1065495.736 821765.127)"
      ]
     },
     "execution_count": 9,
     "metadata": {},
     "output_type": "execute_result"
    }
   ],
   "source": [
    "gdf_nodes"
   ]
  },
  {
   "cell_type": "code",
   "execution_count": 10,
   "id": "21914bc2-bd9a-462a-9aff-9ee56f47f266",
   "metadata": {},
   "outputs": [
    {
     "data": {
      "text/html": [
       "<div>\n",
       "<style scoped>\n",
       "    .dataframe tbody tr th:only-of-type {\n",
       "        vertical-align: middle;\n",
       "    }\n",
       "\n",
       "    .dataframe tbody tr th {\n",
       "        vertical-align: top;\n",
       "    }\n",
       "\n",
       "    .dataframe thead th {\n",
       "        text-align: right;\n",
       "    }\n",
       "</style>\n",
       "<table border=\"1\" class=\"dataframe\">\n",
       "  <thead>\n",
       "    <tr style=\"text-align: right;\">\n",
       "      <th></th>\n",
       "      <th></th>\n",
       "      <th></th>\n",
       "      <th>geometry</th>\n",
       "    </tr>\n",
       "    <tr>\n",
       "      <th>u</th>\n",
       "      <th>v</th>\n",
       "      <th>key</th>\n",
       "      <th></th>\n",
       "    </tr>\n",
       "  </thead>\n",
       "  <tbody>\n",
       "    <tr>\n",
       "      <th>955820326</th>\n",
       "      <th>38773287</th>\n",
       "      <th>0</th>\n",
       "      <td>LINESTRING (1105863.471 779610.506, 1173015.42...</td>\n",
       "    </tr>\n",
       "    <tr>\n",
       "      <th>281828280</th>\n",
       "      <th>464139803</th>\n",
       "      <th>0</th>\n",
       "      <td>LINESTRING (1065495.736 821765.127, 1071608.01...</td>\n",
       "    </tr>\n",
       "  </tbody>\n",
       "</table>\n",
       "</div>"
      ],
      "text/plain": [
       "                                                                  geometry\n",
       "u         v         key                                                   \n",
       "955820326 38773287  0    LINESTRING (1105863.471 779610.506, 1173015.42...\n",
       "281828280 464139803 0    LINESTRING (1065495.736 821765.127, 1071608.01..."
      ]
     },
     "execution_count": 10,
     "metadata": {},
     "output_type": "execute_result"
    }
   ],
   "source": [
    "gdf_edges"
   ]
  },
  {
   "cell_type": "code",
   "execution_count": 11,
   "id": "9a664f90-bfb2-4151-84e4-ba45104b91bf",
   "metadata": {},
   "outputs": [
    {
     "data": {
      "text/html": [
       "<div style=\"width:100%;\"><div style=\"position:relative;width:100%;height:0;padding-bottom:60%;\"><span style=\"color:#565656\">Make this Notebook Trusted to load map: File -> Trust Notebook</span><iframe srcdoc=\"&lt;!DOCTYPE html&gt;\n",
       "&lt;html&gt;\n",
       "&lt;head&gt;\n",
       "    \n",
       "    &lt;meta http-equiv=&quot;content-type&quot; content=&quot;text/html; charset=UTF-8&quot; /&gt;\n",
       "    \n",
       "        &lt;script&gt;\n",
       "            L_NO_TOUCH = false;\n",
       "            L_DISABLE_3D = false;\n",
       "        &lt;/script&gt;\n",
       "    \n",
       "    &lt;style&gt;html, body {width: 100%;height: 100%;margin: 0;padding: 0;}&lt;/style&gt;\n",
       "    &lt;style&gt;#map {position:absolute;top:0;bottom:0;right:0;left:0;}&lt;/style&gt;\n",
       "    &lt;script src=&quot;https://cdn.jsdelivr.net/npm/leaflet@1.9.3/dist/leaflet.js&quot;&gt;&lt;/script&gt;\n",
       "    &lt;script src=&quot;https://code.jquery.com/jquery-3.7.1.min.js&quot;&gt;&lt;/script&gt;\n",
       "    &lt;script src=&quot;https://cdn.jsdelivr.net/npm/bootstrap@5.2.2/dist/js/bootstrap.bundle.min.js&quot;&gt;&lt;/script&gt;\n",
       "    &lt;script src=&quot;https://cdnjs.cloudflare.com/ajax/libs/Leaflet.awesome-markers/2.0.2/leaflet.awesome-markers.js&quot;&gt;&lt;/script&gt;\n",
       "    &lt;link rel=&quot;stylesheet&quot; href=&quot;https://cdn.jsdelivr.net/npm/leaflet@1.9.3/dist/leaflet.css&quot;/&gt;\n",
       "    &lt;link rel=&quot;stylesheet&quot; href=&quot;https://cdn.jsdelivr.net/npm/bootstrap@5.2.2/dist/css/bootstrap.min.css&quot;/&gt;\n",
       "    &lt;link rel=&quot;stylesheet&quot; href=&quot;https://netdna.bootstrapcdn.com/bootstrap/3.0.0/css/bootstrap.min.css&quot;/&gt;\n",
       "    &lt;link rel=&quot;stylesheet&quot; href=&quot;https://cdn.jsdelivr.net/npm/@fortawesome/fontawesome-free@6.2.0/css/all.min.css&quot;/&gt;\n",
       "    &lt;link rel=&quot;stylesheet&quot; href=&quot;https://cdnjs.cloudflare.com/ajax/libs/Leaflet.awesome-markers/2.0.2/leaflet.awesome-markers.css&quot;/&gt;\n",
       "    &lt;link rel=&quot;stylesheet&quot; href=&quot;https://cdn.jsdelivr.net/gh/python-visualization/folium/folium/templates/leaflet.awesome.rotate.min.css&quot;/&gt;\n",
       "    \n",
       "            &lt;meta name=&quot;viewport&quot; content=&quot;width=device-width,\n",
       "                initial-scale=1.0, maximum-scale=1.0, user-scalable=no&quot; /&gt;\n",
       "            &lt;style&gt;\n",
       "                #map_3dea9c8fa7639ae94e4aaf22fd2e5edd {\n",
       "                    position: relative;\n",
       "                    width: 100.0%;\n",
       "                    height: 100.0%;\n",
       "                    left: 0.0%;\n",
       "                    top: 0.0%;\n",
       "                }\n",
       "                .leaflet-container { font-size: 1rem; }\n",
       "            &lt;/style&gt;\n",
       "        \n",
       "    \n",
       "                    &lt;style&gt;\n",
       "                        .foliumtooltip {\n",
       "                            \n",
       "                        }\n",
       "                       .foliumtooltip table{\n",
       "                            margin: auto;\n",
       "                        }\n",
       "                        .foliumtooltip tr{\n",
       "                            text-align: left;\n",
       "                        }\n",
       "                        .foliumtooltip th{\n",
       "                            padding: 2px; padding-right: 8px;\n",
       "                        }\n",
       "                    &lt;/style&gt;\n",
       "            \n",
       "&lt;/head&gt;\n",
       "&lt;body&gt;\n",
       "    \n",
       "    \n",
       "            &lt;div class=&quot;folium-map&quot; id=&quot;map_3dea9c8fa7639ae94e4aaf22fd2e5edd&quot; &gt;&lt;/div&gt;\n",
       "        \n",
       "&lt;/body&gt;\n",
       "&lt;script&gt;\n",
       "    \n",
       "    \n",
       "            var map_3dea9c8fa7639ae94e4aaf22fd2e5edd = L.map(\n",
       "                &quot;map_3dea9c8fa7639ae94e4aaf22fd2e5edd&quot;,\n",
       "                {\n",
       "                    center: [10.73883, 77.09505],\n",
       "                    crs: L.CRS.EPSG3857,\n",
       "                    zoom: 10,\n",
       "                    zoomControl: true,\n",
       "                    preferCanvas: false,\n",
       "                }\n",
       "            );\n",
       "            L.control.scale().addTo(map_3dea9c8fa7639ae94e4aaf22fd2e5edd);\n",
       "\n",
       "            \n",
       "\n",
       "        \n",
       "    \n",
       "            var tile_layer_ee208df02637085475ca73589cb65244 = L.tileLayer(\n",
       "                &quot;https://tile.openstreetmap.org/{z}/{x}/{y}.png&quot;,\n",
       "                {&quot;attribution&quot;: &quot;\\u0026copy; \\u003ca href=\\&quot;https://www.openstreetmap.org/copyright\\&quot;\\u003eOpenStreetMap\\u003c/a\\u003e contributors&quot;, &quot;detectRetina&quot;: false, &quot;maxNativeZoom&quot;: 19, &quot;maxZoom&quot;: 19, &quot;minZoom&quot;: 0, &quot;noWrap&quot;: false, &quot;opacity&quot;: 1, &quot;subdomains&quot;: &quot;abc&quot;, &quot;tms&quot;: false}\n",
       "            );\n",
       "        \n",
       "    \n",
       "            tile_layer_ee208df02637085475ca73589cb65244.addTo(map_3dea9c8fa7639ae94e4aaf22fd2e5edd);\n",
       "        \n",
       "    \n",
       "            map_3dea9c8fa7639ae94e4aaf22fd2e5edd.fitBounds(\n",
       "                [[8.50606, 76.5955], [12.971600000000002, 77.5946]],\n",
       "                {}\n",
       "            );\n",
       "        \n",
       "    \n",
       "        function geo_json_f0cb39d23db3946cca4b708bd812e916_styler(feature) {\n",
       "            switch(feature.id) {\n",
       "                default:\n",
       "                    return {&quot;fillOpacity&quot;: 0.5, &quot;weight&quot;: 2};\n",
       "            }\n",
       "        }\n",
       "        function geo_json_f0cb39d23db3946cca4b708bd812e916_highlighter(feature) {\n",
       "            switch(feature.id) {\n",
       "                default:\n",
       "                    return {&quot;fillOpacity&quot;: 0.75};\n",
       "            }\n",
       "        }\n",
       "        function geo_json_f0cb39d23db3946cca4b708bd812e916_pointToLayer(feature, latlng) {\n",
       "            var opts = {&quot;bubblingMouseEvents&quot;: true, &quot;color&quot;: &quot;#3388ff&quot;, &quot;dashArray&quot;: null, &quot;dashOffset&quot;: null, &quot;fill&quot;: true, &quot;fillColor&quot;: &quot;#3388ff&quot;, &quot;fillOpacity&quot;: 0.2, &quot;fillRule&quot;: &quot;evenodd&quot;, &quot;lineCap&quot;: &quot;round&quot;, &quot;lineJoin&quot;: &quot;round&quot;, &quot;opacity&quot;: 1.0, &quot;radius&quot;: 2, &quot;stroke&quot;: true, &quot;weight&quot;: 3};\n",
       "            \n",
       "            let style = geo_json_f0cb39d23db3946cca4b708bd812e916_styler(feature)\n",
       "            Object.assign(opts, style)\n",
       "            \n",
       "            return new L.CircleMarker(latlng, opts)\n",
       "        }\n",
       "\n",
       "        function geo_json_f0cb39d23db3946cca4b708bd812e916_onEachFeature(feature, layer) {\n",
       "            layer.on({\n",
       "                mouseout: function(e) {\n",
       "                    if(typeof e.target.setStyle === &quot;function&quot;){\n",
       "                        geo_json_f0cb39d23db3946cca4b708bd812e916.resetStyle(e.target);\n",
       "                    }\n",
       "                },\n",
       "                mouseover: function(e) {\n",
       "                    if(typeof e.target.setStyle === &quot;function&quot;){\n",
       "                        const highlightStyle = geo_json_f0cb39d23db3946cca4b708bd812e916_highlighter(e.target.feature)\n",
       "                        e.target.setStyle(highlightStyle);\n",
       "                    }\n",
       "                },\n",
       "            });\n",
       "        };\n",
       "        var geo_json_f0cb39d23db3946cca4b708bd812e916 = L.geoJson(null, {\n",
       "                onEachFeature: geo_json_f0cb39d23db3946cca4b708bd812e916_onEachFeature,\n",
       "            \n",
       "                style: geo_json_f0cb39d23db3946cca4b708bd812e916_styler,\n",
       "                pointToLayer: geo_json_f0cb39d23db3946cca4b708bd812e916_pointToLayer,\n",
       "        });\n",
       "\n",
       "        function geo_json_f0cb39d23db3946cca4b708bd812e916_add (data) {\n",
       "            geo_json_f0cb39d23db3946cca4b708bd812e916\n",
       "                .addData(data);\n",
       "        }\n",
       "            geo_json_f0cb39d23db3946cca4b708bd812e916_add({&quot;bbox&quot;: [76.5955, 8.50606, 77.5946, 12.971600000000002], &quot;features&quot;: [{&quot;bbox&quot;: [76.96153, 8.50606, 77.5946, 12.971600000000002], &quot;geometry&quot;: {&quot;coordinates&quot;: [[76.96153, 8.50606], [77.5946, 12.971600000000002]], &quot;type&quot;: &quot;LineString&quot;}, &quot;id&quot;: &quot;(955820326, 38773287, 0)&quot;, &quot;properties&quot;: {}, &quot;type&quot;: &quot;Feature&quot;}, {&quot;bbox&quot;: [76.5955, 8.887950000000002, 76.6548, 10.7867], &quot;geometry&quot;: {&quot;coordinates&quot;: [[76.5955, 8.887950000000002], [76.6548, 10.7867]], &quot;type&quot;: &quot;LineString&quot;}, &quot;id&quot;: &quot;(281828280, 464139803, 0)&quot;, &quot;properties&quot;: {}, &quot;type&quot;: &quot;Feature&quot;}], &quot;type&quot;: &quot;FeatureCollection&quot;});\n",
       "\n",
       "        \n",
       "    \n",
       "    geo_json_f0cb39d23db3946cca4b708bd812e916.bindTooltip(\n",
       "    function(layer){\n",
       "    let div = L.DomUtil.create(&#x27;div&#x27;);\n",
       "    \n",
       "    return div\n",
       "    }\n",
       "    ,{&quot;className&quot;: &quot;foliumtooltip&quot;, &quot;sticky&quot;: true});\n",
       "                     \n",
       "    \n",
       "            geo_json_f0cb39d23db3946cca4b708bd812e916.addTo(map_3dea9c8fa7639ae94e4aaf22fd2e5edd);\n",
       "        \n",
       "&lt;/script&gt;\n",
       "&lt;/html&gt;\" style=\"position:absolute;width:100%;height:100%;left:0;top:0;border:none !important;\" allowfullscreen webkitallowfullscreen mozallowfullscreen></iframe></div></div>"
      ],
      "text/plain": [
       "<folium.folium.Map at 0x27e61bbff70>"
      ]
     },
     "execution_count": 11,
     "metadata": {},
     "output_type": "execute_result"
    }
   ],
   "source": [
    "gdf_edges.explore()"
   ]
  },
  {
   "cell_type": "code",
   "execution_count": 12,
   "id": "d6c0e733-13c4-413e-8674-d34c5faeda67",
   "metadata": {},
   "outputs": [],
   "source": [
    "# set crs attribute\n",
    "graph_attrs = {\"crs\": \"EPSG:7781\"}\n",
    "\n",
    "# convert geodataframe to multidigraph\n",
    "proj_multidigraph = ox.utils_graph.graph_from_gdfs(\n",
    "  gdf_nodes, gdf_edges, graph_attrs=graph_attrs)"
   ]
  },
  {
   "cell_type": "code",
   "execution_count": 13,
   "id": "235cb4fe-0154-47a9-9328-dae748b532a0",
   "metadata": {},
   "outputs": [],
   "source": [
    "import geopandas as gpd\n",
    "from shapely import Point"
   ]
  },
  {
   "cell_type": "code",
   "execution_count": 14,
   "id": "a56c8e8b-c941-419d-b056-ad771f0dcdb9",
   "metadata": {},
   "outputs": [],
   "source": [
    "# create geodataframe for x-y coordinate\n",
    "cok_node_dict = {'col1':['Kochi'], 'geometry': [Point(cok_lon, cok_lat)]}\n",
    "cok_node_gdf = gpd.GeoDataFrame(cok_node_dict, crs=\"EPSG:4326\")\n",
    "\n",
    "# convert to projected coordinates\n",
    "cok_node_gdf['geometry'] = cok_node_gdf.geometry.to_crs(\"EPSG:7781\")\n",
    "cok_proj_lon = cok_node_gdf['geometry'].x[0]\n",
    "cok_proj_lat =  cok_node_gdf['geometry'].y[0]"
   ]
  },
  {
   "cell_type": "code",
   "execution_count": 15,
   "id": "2a2f505e-48d9-4f8f-abd4-52e443b36e70",
   "metadata": {},
   "outputs": [
    {
     "data": {
      "text/plain": [
       "((281828280, 464139803, 0), 39525.24413890172)"
      ]
     },
     "execution_count": 15,
     "metadata": {},
     "output_type": "execute_result"
    }
   ],
   "source": [
    "ox.distance.nearest_edges(\n",
    "  proj_multidigraph, cok_proj_lon, cok_proj_lat, \n",
    "  interpolate=None, return_dist=True)"
   ]
  }
 ],
 "metadata": {
  "kernelspec": {
   "display_name": "Python 3 (ipykernel)",
   "language": "python",
   "name": "python3"
  },
  "language_info": {
   "codemirror_mode": {
    "name": "ipython",
    "version": 3
   },
   "file_extension": ".py",
   "mimetype": "text/x-python",
   "name": "python",
   "nbconvert_exporter": "python",
   "pygments_lexer": "ipython3",
   "version": "3.10.0"
  }
 },
 "nbformat": 4,
 "nbformat_minor": 5
}
